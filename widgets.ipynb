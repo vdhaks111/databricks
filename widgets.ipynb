{
 "cells": [
  {
   "cell_type": "code",
   "execution_count": 0,
   "metadata": {
    "application/vnd.databricks.v1+cell": {
     "cellMetadata": {
      "byteLimit": 2048000,
      "rowLimit": 10000
     },
     "inputWidgets": {},
     "nuid": "7b1a45ae-2f55-471d-9151-9bac8ec100fd",
     "showTitle": false,
     "title": ""
    }
   },
   "outputs": [],
   "source": [
    "dbutils.widgets.combobox(name='orderstatus',defaultValue='CLOSED',choices=['CLOSED','COMPLETE','PROCESSING'],label='ORDERSTATUS')"
   ]
  },
  {
   "cell_type": "code",
   "execution_count": 0,
   "metadata": {
    "application/vnd.databricks.v1+cell": {
     "cellMetadata": {
      "byteLimit": 2048000,
      "rowLimit": 10000
     },
     "inputWidgets": {},
     "nuid": "1236d066-857a-42ac-81ee-824e152103e3",
     "showTitle": false,
     "title": ""
    }
   },
   "outputs": [
    {
     "output_type": "stream",
     "name": "stdout",
     "output_type": "stream",
     "text": [
      "+--------+--------------------+-----------------+------------+\n|order_id|          order_date|order_customer_id|order_status|\n+--------+--------------------+-----------------+------------+\n|       1|2013-07-25 00:00:...|            11599|      CLOSED|\n|       4|2013-07-25 00:00:...|             8827|      CLOSED|\n|      12|2013-07-25 00:00:...|             1837|      CLOSED|\n|      18|2013-07-25 00:00:...|             1205|      CLOSED|\n|      24|2013-07-25 00:00:...|            11441|      CLOSED|\n|      25|2013-07-25 00:00:...|             9503|      CLOSED|\n|      37|2013-07-25 00:00:...|             5863|      CLOSED|\n|      51|2013-07-25 00:00:...|            12271|      CLOSED|\n|      57|2013-07-25 00:00:...|             7073|      CLOSED|\n|      61|2013-07-25 00:00:...|             4791|      CLOSED|\n|      62|2013-07-25 00:00:...|             9111|      CLOSED|\n|      87|2013-07-25 00:00:...|             3065|      CLOSED|\n|      90|2013-07-25 00:00:...|             9131|      CLOSED|\n|     101|2013-07-25 00:00:...|             5116|      CLOSED|\n|     116|2013-07-26 00:00:...|             8763|      CLOSED|\n|     129|2013-07-26 00:00:...|             9937|      CLOSED|\n|     133|2013-07-26 00:00:...|            10604|      CLOSED|\n|     191|2013-07-26 00:00:...|               16|      CLOSED|\n|     201|2013-07-26 00:00:...|             9055|      CLOSED|\n|     211|2013-07-26 00:00:...|            10372|      CLOSED|\n+--------+--------------------+-----------------+------------+\nonly showing top 20 rows\n\n"
     ]
    }
   ],
   "source": [
    "df = spark.read.csv('/FileStore/retaildata/orders.csv',header=True)\n",
    "os = dbutils.widgets.get('orderstatus')\n",
    "df.where(\"order_status =='{}'\".format(os)).show()"
   ]
  },
  {
   "cell_type": "code",
   "execution_count": 0,
   "metadata": {
    "application/vnd.databricks.v1+cell": {
     "cellMetadata": {},
     "inputWidgets": {},
     "nuid": "66a8f808-6af8-4ab4-9843-4cd8c4cccfb7",
     "showTitle": false,
     "title": ""
    }
   },
   "outputs": [],
   "source": []
  }
 ],
 "metadata": {
  "application/vnd.databricks.v1+notebook": {
   "dashboards": [],
   "language": "python",
   "notebookMetadata": {
    "pythonIndentUnit": 4
   },
   "notebookName": "widgets",
   "widgets": {
    "orderstatus": {
     "currentValue": "CLOSED",
     "nuid": "cf1a996f-7d0a-4dcc-89f4-15606ee5ef71",
     "widgetInfo": {
      "widgetType": "combobox",
      "defaultValue": "CLOSED",
      "label": "ORDERSTATUS",
      "name": "orderstatus",
      "options": {
       "widgetType": "dropdown",
       "autoCreated": null,
       "choices": [
        "CLOSED",
        "COMPLETE",
        "PROCESSING"
       ]
      }
     }
    }
   }
  }
 },
 "nbformat": 4,
 "nbformat_minor": 0
}
