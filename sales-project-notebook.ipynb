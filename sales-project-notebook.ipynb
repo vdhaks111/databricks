{
 "cells": [
  {
   "cell_type": "code",
   "execution_count": 0,
   "metadata": {
    "application/vnd.databricks.v1+cell": {
     "cellMetadata": {},
     "inputWidgets": {},
     "nuid": "7403e4b3-9ac8-437a-927a-aca8c07fb7cd",
     "showTitle": false,
     "title": ""
    }
   },
   "outputs": [],
   "source": [
    "filename = dbutils.widgets.get('filename')\n",
    "print(filename)"
   ]
  },
  {
   "cell_type": "code",
   "execution_count": 0,
   "metadata": {
    "application/vnd.databricks.v1+cell": {
     "cellMetadata": {},
     "inputWidgets": {},
     "nuid": "5d8ad658-1256-48a2-895f-83038cd1ff38",
     "showTitle": false,
     "title": ""
    }
   },
   "outputs": [],
   "source": [
    "alreadyMounted = False\n",
    "for x in dbutils.fs.mounts():\n",
    "    if x.mountPoint == \"/mnt/sales\":\n",
    "        alreadyMounted = True\n",
    "        break\n",
    "    else:\n",
    "        alreadyMounted = False\n",
    "print(alreadyMounted)"
   ]
  },
  {
   "cell_type": "code",
   "execution_count": 0,
   "metadata": {
    "application/vnd.databricks.v1+cell": {
     "cellMetadata": {},
     "inputWidgets": {},
     "nuid": "76d2c6dc-0ecd-464f-9832-0eb3454e8292",
     "showTitle": false,
     "title": ""
    }
   },
   "outputs": [],
   "source": [
    "dbServer = 'vetrisqlserver'\n",
    "dbPort = '1433'\n",
    "dbName = 'salesdb'\n",
    "dbUser = 'vetrisa'\n",
    "dbPassword = 'sql-password'\n",
    "databricksScope = 'salesprojectscope'"
   ]
  },
  {
   "cell_type": "code",
   "execution_count": 0,
   "metadata": {
    "application/vnd.databricks.v1+cell": {
     "cellMetadata": {},
     "inputWidgets": {},
     "nuid": "e3e1fe52-a684-4fca-aef9-369a6db55bec",
     "showTitle": false,
     "title": ""
    }
   },
   "outputs": [],
   "source": [
    "storageAccountKey = dbutils.secrets.get(scope='salesprojectscope',key='storage-acccount-key')"
   ]
  },
  {
   "cell_type": "code",
   "execution_count": 0,
   "metadata": {
    "application/vnd.databricks.v1+cell": {
     "cellMetadata": {},
     "inputWidgets": {},
     "nuid": "72aa759d-daef-4220-a27b-d6bf2efcfdca",
     "showTitle": false,
     "title": ""
    }
   },
   "outputs": [],
   "source": [
    "if not alreadyMounted:\n",
    "    dbutils.fs.mount(\n",
    "source = 'wasbs://sales@vetristoragesa.blob.core.windows.net',\n",
    "mount_point = '/mnt/sales',\n",
    "extra_configs={'fs.azure.account.key.vetristoragesa.blob.core.windows.net':storageAccountKey}\n",
    ")\n",
    "    alreadyMounted = True\n",
    "    print('mounting done')\n",
    "else:\n",
    "    print(\"It is already mounted\")"
   ]
  },
  {
   "cell_type": "code",
   "execution_count": 0,
   "metadata": {
    "application/vnd.databricks.v1+cell": {
     "cellMetadata": {},
     "inputWidgets": {},
     "nuid": "70cab097-f5a7-4463-beb5-0049fb6f03c9",
     "showTitle": false,
     "title": ""
    }
   },
   "outputs": [],
   "source": [
    "ordersDf = spark.read.csv('/mnt/sales/landing/{}',inferSchema=True,header=True)"
   ]
  },
  {
   "cell_type": "code",
   "execution_count": 0,
   "metadata": {
    "application/vnd.databricks.v1+cell": {
     "cellMetadata": {},
     "inputWidgets": {},
     "nuid": "1f7e3c7b-65f5-4fd4-b171-914e18740b16",
     "showTitle": false,
     "title": ""
    }
   },
   "outputs": [],
   "source": [
    "display(ordersDf)"
   ]
  },
  {
   "cell_type": "code",
   "execution_count": 0,
   "metadata": {
    "application/vnd.databricks.v1+cell": {
     "cellMetadata": {},
     "inputWidgets": {},
     "nuid": "0f1ced5e-fb80-416a-9b18-cf74aa697d63",
     "showTitle": false,
     "title": ""
    }
   },
   "outputs": [],
   "source": [
    "errorFlg = False\n",
    "ordersCount = ordersDf.count()\n",
    "print(ordersCount)\n",
    "distinctOrdersCount = ordersDf.select('order_id').distinct().count()\n",
    "print(distinctOrdersCount)\n",
    "\n",
    "if ordersCount != distinctOrdersCount:\n",
    "    errorFlg = True\n",
    "if errorFlg:\n",
    "    dbutils.fs.mv('/mnt/sales/landing/{}'.format(filename),'/mnt/sales/discarded')\n",
    "    dbutils.notebook.exit('{\"errorFlg\":\"true\",\"errorMsg\":\"order id is repeated\"}')\n",
    "\n",
    "ordersDf.createOrReplaceTempView(\"orders\")"
   ]
  },
  {
   "cell_type": "code",
   "execution_count": 0,
   "metadata": {
    "application/vnd.databricks.v1+cell": {
     "cellMetadata": {},
     "inputWidgets": {},
     "nuid": "a4dd9e5f-84fa-4b94-a876-3e0f088fc86d",
     "showTitle": false,
     "title": ""
    }
   },
   "outputs": [],
   "source": [
    "df = spark.sql(\"select * from orders\")\n",
    "display(df)"
   ]
  },
  {
   "cell_type": "code",
   "execution_count": 0,
   "metadata": {
    "application/vnd.databricks.v1+cell": {
     "cellMetadata": {},
     "inputWidgets": {},
     "nuid": "f3d7de07-dd4a-48cc-a7cc-3bd50a69f907",
     "showTitle": false,
     "title": ""
    }
   },
   "outputs": [],
   "source": [
    "connectionUrl =\n",
    "'jdbc:sqlserver://{}.database.windows.net:{};database={};user={};'.format(dbServer,dbPort, dbName, dbUser)\n",
    "dbPassword = dbutils.secrets.get(scope = databricksScope, key='sql-password')\n",
    "connectionProperties = {\n",
    "'password': dbPassword,\n",
    "'driver':'com.microsoft.sqlserver.jdbc.SQLServerDriver'\n",
    "}"
   ]
  },
  {
   "cell_type": "code",
   "execution_count": 0,
   "metadata": {
    "application/vnd.databricks.v1+cell": {
     "cellMetadata": {},
     "inputWidgets": {},
     "nuid": "a2fcb928-50a8-45a8-b328-0360b7664b50",
     "showTitle": false,
     "title": ""
    }
   },
   "outputs": [],
   "source": [
    "validStatusDf = spark.read.jdbc(url = connectionUrl, table ='dbo.valid_order_status',properties = connectionProperties )\n",
    "display(validStatusDf)"
   ]
  },
  {
   "cell_type": "code",
   "execution_count": 0,
   "metadata": {
    "application/vnd.databricks.v1+cell": {
     "cellMetadata": {},
     "inputWidgets": {},
     "nuid": "05424fea-0ffc-456f-a1f1-deebe946fec5",
     "showTitle": false,
     "title": ""
    }
   },
   "outputs": [],
   "source": [
    "invalidRowsDf = spark.sql(\"select * from orders where order_status not in (select * from valid_status)\")\n",
    "display(validStatusDf)"
   ]
  },
  {
   "cell_type": "code",
   "execution_count": 0,
   "metadata": {
    "application/vnd.databricks.v1+cell": {
     "cellMetadata": {},
     "inputWidgets": {},
     "nuid": "dfa206f4-c560-45ae-980d-693d6710fd54",
     "showTitle": false,
     "title": ""
    }
   },
   "outputs": [],
   "source": [
    "if invalidRowsDf.count() > 0:\n",
    "    errorFlg = True\n",
    "if errorFlg:\n",
    "    dbutils.fs.mv('/mnt/sales/landing/{}'.format(filename),'/mnt/sales/discarded')\n",
    "    dbutils.notebook.exit('{\"errorFlg\":\"true\",\"errorMsg\":\"Invalid order status\"}')\n",
    "else:\n",
    "    dbutils.fs.mv('/mnt/sales/landing/{}'.format(filename),'/mnt/sales/staging')"
   ]
  },
  {
   "cell_type": "code",
   "execution_count": 0,
   "metadata": {
    "application/vnd.databricks.v1+cell": {
     "cellMetadata": {},
     "inputWidgets": {},
     "nuid": "9d757051-8d74-4dce-a7c2-5de5d28eb89e",
     "showTitle": false,
     "title": ""
    }
   },
   "outputs": [],
   "source": [
    "orderItemsDf = spark.read.csv('/mnt/sales/order_items/order_items.csv',inferSchema=True,header=True)\n",
    "display(orderItemsDf)\n",
    "orderItemsDf.createOrReplaceTempView(\"order_items\")"
   ]
  },
  {
   "cell_type": "code",
   "execution_count": 0,
   "metadata": {
    "application/vnd.databricks.v1+cell": {
     "cellMetadata": {},
     "inputWidgets": {},
     "nuid": "9f5afa02-f76b-49b3-9fa5-32b69ff28268",
     "showTitle": false,
     "title": ""
    }
   },
   "outputs": [],
   "source": [
    "customersDf = spark.read.jdbc(url=connectionUrl, table='dbo.customers',properties = connectionProperties)\n",
    "display(customersDf)\n",
    "customersDf.createOrReplaceTempView(\"customers\")"
   ]
  },
  {
   "cell_type": "code",
   "execution_count": 0,
   "metadata": {
    "application/vnd.databricks.v1+cell": {
     "cellMetadata": {},
     "inputWidgets": {},
     "nuid": "3e0886bb-863c-4a59-919f-bfa530a7b6be",
     "showTitle": false,
     "title": ""
    }
   },
   "outputs": [],
   "source": [
    "ordersDf = spark.read.csv('/mnt/sales/staging/{}',inferSchema=True,header=True)\n",
    "ordersDf.createOrReplaceTempView(\"orders\")"
   ]
  },
  {
   "cell_type": "code",
   "execution_count": 0,
   "metadata": {
    "application/vnd.databricks.v1+cell": {
     "cellMetadata": {},
     "inputWidgets": {},
     "nuid": "07dfeb13-b26d-4b75-951c-f82203b4ee0c",
     "showTitle": false,
     "title": ""
    }
   },
   "outputs": [],
   "source": [
    "resultDf1 = spark.sql(\"\"\"select c.customer_id,c.customer_firstname,c.customer_lastname,c.customer_city,c.customer_state,c.customer_zipcode,count(order_id) as no_of_orders,round(sum(order_item_subtotal),2)as total_amount from customers c,orders o,order_items i on c.customer_id = o.customer_id and o.order_id = i.order_item_order_id group by c.customer_id,c.customer_firstname,c.customer_lastname,c.customer_city,c.customer_state,c.customer_zipcode order by total_amount desc\"\"\")\n",
    "\n",
    "display(resultDf1)"
   ]
  },
  {
   "cell_type": "code",
   "execution_count": 0,
   "metadata": {
    "application/vnd.databricks.v1+cell": {
     "cellMetadata": {},
     "inputWidgets": {},
     "nuid": "01018964-083f-4aea-8d42-23efaefd17fe",
     "showTitle": false,
     "title": ""
    }
   },
   "outputs": [],
   "source": [
    "resultDf1.write.jdbc(url=connectionUrl, table='dbo.sales_reporting',properties = connectionProperties,mode='overwrite')"
   ]
  }
 ],
 "metadata": {
  "application/vnd.databricks.v1+notebook": {
   "dashboards": [],
   "language": "python",
   "notebookMetadata": {
    "pythonIndentUnit": 4
   },
   "notebookName": "sales-project-notebook",
   "widgets": {}
  }
 },
 "nbformat": 4,
 "nbformat_minor": 0
}
